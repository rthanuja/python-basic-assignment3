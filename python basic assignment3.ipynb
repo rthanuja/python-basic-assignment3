{
 "cells": [
  {
   "cell_type": "code",
   "execution_count": null,
   "id": "9ad59140",
   "metadata": {},
   "outputs": [],
   "source": [
    "#1. Why are functions advantageous to have in your programs?\n",
    "Instead of writing the same code n no of times where same thing has to be carried out we can write code once in the function \n",
    "and can be called any no of times from anywhere.\n",
    "It helps in breaking down the code into small blocks."
   ]
  },
  {
   "cell_type": "code",
   "execution_count": null,
   "id": "94637452",
   "metadata": {},
   "outputs": [],
   "source": [
    "#2. When does the code in a function run: when it is specified or when it is called?\n",
    "code in the function runs when it is called."
   ]
  },
  {
   "cell_type": "code",
   "execution_count": null,
   "id": "910cad0c",
   "metadata": {},
   "outputs": [],
   "source": [
    "#3. What statement creates a function?\n",
    "def function(parameters):\n",
    "    #code"
   ]
  },
  {
   "cell_type": "code",
   "execution_count": null,
   "id": "23565579",
   "metadata": {},
   "outputs": [],
   "source": [
    "#4. What is the difference between a function and a function call?\n",
    "Function is a reusable block of code which is just defined and it does not run the code at the time it is defined or created,\n",
    "it runs only when it is called.\n",
    "Function call is to actually invoke the function and that is when it runs the code in the function.\n",
    "Function has to be defined before calling it."
   ]
  },
  {
   "cell_type": "code",
   "execution_count": null,
   "id": "83ec7fed",
   "metadata": {},
   "outputs": [],
   "source": [
    "5. How many global scopes are there in a Python program? How many local scopes?\n",
    "There is only one global scope in a python program.It remains in existence untill the program terminates.\n",
    "Local scope is created at the call of a function not when it is defined.so there will be as many local scopes \n",
    "as the function calls.\n"
   ]
  },
  {
   "cell_type": "code",
   "execution_count": null,
   "id": "a3c26d68",
   "metadata": {},
   "outputs": [],
   "source": [
    "6. What happens to variables in a local scope when the function call returns?\n",
    "variables in local scope will be destroyed and their memory will be reallocated."
   ]
  },
  {
   "cell_type": "code",
   "execution_count": null,
   "id": "57a6e396",
   "metadata": {},
   "outputs": [],
   "source": [
    "7. What is the concept of a return value? Is it possible to have a return value in an expression?\n",
    "return value is a value that a function sends back to the caller code.yes, it is possible to have a return\n",
    "value in an expression."
   ]
  },
  {
   "cell_type": "code",
   "execution_count": null,
   "id": "55127d27",
   "metadata": {},
   "outputs": [],
   "source": [
    "8. If a function does not have a return statement, what is the return value of a call to that function?\n",
    "None"
   ]
  },
  {
   "cell_type": "code",
   "execution_count": null,
   "id": "18f818d2",
   "metadata": {},
   "outputs": [],
   "source": [
    "9. How do you make a function variable refer to the global variable?\n",
    "global keyword is used inside the function"
   ]
  },
  {
   "cell_type": "code",
   "execution_count": null,
   "id": "0374cac9",
   "metadata": {},
   "outputs": [],
   "source": [
    "10. What is the data type of None?\n",
    "Nonetype"
   ]
  },
  {
   "cell_type": "code",
   "execution_count": null,
   "id": "cbc2aeb5",
   "metadata": {},
   "outputs": [],
   "source": [
    "11. What does the sentence import areallyourpetsnamederic do?\n",
    "if there is a module named areallyourpetsnamederic exists,it imports that module\n",
    "otherwise it throws an error."
   ]
  },
  {
   "cell_type": "code",
   "execution_count": null,
   "id": "22d55230",
   "metadata": {},
   "outputs": [],
   "source": [
    "#12. If you had a bacon() feature in a spam module, what would you call it after importing spam?\n",
    "import spam\n",
    "spam.bacon()"
   ]
  },
  {
   "cell_type": "code",
   "execution_count": null,
   "id": "7774d133",
   "metadata": {},
   "outputs": [],
   "source": [
    "13. What can you do to save a programme from crashing if it encounters an error?\n",
    "we can use try and except clause to handle errors and prevent program from crashing"
   ]
  },
  {
   "cell_type": "code",
   "execution_count": null,
   "id": "7d91bbdf",
   "metadata": {},
   "outputs": [],
   "source": [
    "14. What is the purpose of the try clause? What is the purpose of the except clause?\n",
    "Exceptions are handled using try and except clause\n",
    "try block is used to check the code for errors.if there are no errors the code in the try block will be executed.if there \n",
    "are errors it will go to except clause.This except clause will catch and handle the errors."
   ]
  }
 ],
 "metadata": {
  "kernelspec": {
   "display_name": "Python 3 (ipykernel)",
   "language": "python",
   "name": "python3"
  },
  "language_info": {
   "codemirror_mode": {
    "name": "ipython",
    "version": 3
   },
   "file_extension": ".py",
   "mimetype": "text/x-python",
   "name": "python",
   "nbconvert_exporter": "python",
   "pygments_lexer": "ipython3",
   "version": "3.10.9"
  }
 },
 "nbformat": 4,
 "nbformat_minor": 5
}
